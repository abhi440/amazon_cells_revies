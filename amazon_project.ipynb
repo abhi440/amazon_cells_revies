{
 "cells": [
  {
   "cell_type": "code",
   "execution_count": 1,
   "metadata": {},
   "outputs": [],
   "source": [
    "import numpy as np\n",
    "import pandas as pd\n",
    "import matplotlib.pyplot as plt\n",
    "import seaborn as sns"
   ]
  },
  {
   "cell_type": "code",
   "execution_count": 2,
   "metadata": {},
   "outputs": [],
   "source": [
    "%matplotlib inline"
   ]
  },
  {
   "cell_type": "code",
   "execution_count": 3,
   "metadata": {},
   "outputs": [],
   "source": [
    "df=pd.read_csv('20190928-reviews.csv')"
   ]
  },
  {
   "cell_type": "code",
   "execution_count": 4,
   "metadata": {},
   "outputs": [
    {
     "data": {
      "text/html": [
       "<div>\n",
       "<style scoped>\n",
       "    .dataframe tbody tr th:only-of-type {\n",
       "        vertical-align: middle;\n",
       "    }\n",
       "\n",
       "    .dataframe tbody tr th {\n",
       "        vertical-align: top;\n",
       "    }\n",
       "\n",
       "    .dataframe thead th {\n",
       "        text-align: right;\n",
       "    }\n",
       "</style>\n",
       "<table border=\"1\" class=\"dataframe\">\n",
       "  <thead>\n",
       "    <tr style=\"text-align: right;\">\n",
       "      <th></th>\n",
       "      <th>asin</th>\n",
       "      <th>name</th>\n",
       "      <th>rating</th>\n",
       "      <th>date</th>\n",
       "      <th>verified</th>\n",
       "      <th>title</th>\n",
       "      <th>body</th>\n",
       "      <th>helpfulVotes</th>\n",
       "    </tr>\n",
       "  </thead>\n",
       "  <tbody>\n",
       "    <tr>\n",
       "      <th>0</th>\n",
       "      <td>B0000SX2UC</td>\n",
       "      <td>Janet</td>\n",
       "      <td>3</td>\n",
       "      <td>October 11, 2005</td>\n",
       "      <td>False</td>\n",
       "      <td>Def not best, but not worst</td>\n",
       "      <td>I had the Samsung A600 for awhile which is abs...</td>\n",
       "      <td>1.0</td>\n",
       "    </tr>\n",
       "    <tr>\n",
       "      <th>1</th>\n",
       "      <td>B0000SX2UC</td>\n",
       "      <td>Luke Wyatt</td>\n",
       "      <td>1</td>\n",
       "      <td>January 7, 2004</td>\n",
       "      <td>False</td>\n",
       "      <td>Text Messaging Doesn't Work</td>\n",
       "      <td>Due to a software issue between Nokia and Spri...</td>\n",
       "      <td>17.0</td>\n",
       "    </tr>\n",
       "    <tr>\n",
       "      <th>2</th>\n",
       "      <td>B0000SX2UC</td>\n",
       "      <td>Brooke</td>\n",
       "      <td>5</td>\n",
       "      <td>December 30, 2003</td>\n",
       "      <td>False</td>\n",
       "      <td>Love This Phone</td>\n",
       "      <td>This is a great, reliable phone. I also purcha...</td>\n",
       "      <td>5.0</td>\n",
       "    </tr>\n",
       "    <tr>\n",
       "      <th>3</th>\n",
       "      <td>B0000SX2UC</td>\n",
       "      <td>amy m. teague</td>\n",
       "      <td>3</td>\n",
       "      <td>March 18, 2004</td>\n",
       "      <td>False</td>\n",
       "      <td>Love the Phone, BUT...!</td>\n",
       "      <td>I love the phone and all, because I really did...</td>\n",
       "      <td>1.0</td>\n",
       "    </tr>\n",
       "    <tr>\n",
       "      <th>4</th>\n",
       "      <td>B0000SX2UC</td>\n",
       "      <td>tristazbimmer</td>\n",
       "      <td>4</td>\n",
       "      <td>August 28, 2005</td>\n",
       "      <td>False</td>\n",
       "      <td>Great phone service and options, lousy case!</td>\n",
       "      <td>The phone has been great for every purpose it ...</td>\n",
       "      <td>1.0</td>\n",
       "    </tr>\n",
       "  </tbody>\n",
       "</table>\n",
       "</div>"
      ],
      "text/plain": [
       "         asin           name  rating               date  verified  \\\n",
       "0  B0000SX2UC          Janet       3   October 11, 2005     False   \n",
       "1  B0000SX2UC     Luke Wyatt       1    January 7, 2004     False   \n",
       "2  B0000SX2UC         Brooke       5  December 30, 2003     False   \n",
       "3  B0000SX2UC  amy m. teague       3     March 18, 2004     False   \n",
       "4  B0000SX2UC  tristazbimmer       4    August 28, 2005     False   \n",
       "\n",
       "                                          title  \\\n",
       "0                   Def not best, but not worst   \n",
       "1                   Text Messaging Doesn't Work   \n",
       "2                               Love This Phone   \n",
       "3                       Love the Phone, BUT...!   \n",
       "4  Great phone service and options, lousy case!   \n",
       "\n",
       "                                                body  helpfulVotes  \n",
       "0  I had the Samsung A600 for awhile which is abs...           1.0  \n",
       "1  Due to a software issue between Nokia and Spri...          17.0  \n",
       "2  This is a great, reliable phone. I also purcha...           5.0  \n",
       "3  I love the phone and all, because I really did...           1.0  \n",
       "4  The phone has been great for every purpose it ...           1.0  "
      ]
     },
     "execution_count": 4,
     "metadata": {},
     "output_type": "execute_result"
    }
   ],
   "source": [
    "df.head()"
   ]
  },
  {
   "cell_type": "code",
   "execution_count": 5,
   "metadata": {},
   "outputs": [
    {
     "data": {
      "text/plain": [
       "(82815, 8)"
      ]
     },
     "execution_count": 5,
     "metadata": {},
     "output_type": "execute_result"
    }
   ],
   "source": [
    "df.shape"
   ]
  },
  {
   "cell_type": "code",
   "execution_count": 6,
   "metadata": {},
   "outputs": [
    {
     "data": {
      "text/plain": [
       "<matplotlib.axes._subplots.AxesSubplot at 0x209210096a0>"
      ]
     },
     "execution_count": 6,
     "metadata": {},
     "output_type": "execute_result"
    },
    {
     "data": {
      "image/png": "[encoded data removed]",
      "text/plain": [
       "<Figure size 432x288 with 1 Axes>"
      ]
     },
     "metadata": {
      "needs_background": "light"
     },
     "output_type": "display_data"
    }
   ],
   "source": [
    "sns.countplot(data=df,x='rating')"
   ]
  },
  {
   "cell_type": "code",
   "execution_count": 7,
   "metadata": {},
   "outputs": [
    {
     "data": {
      "text/plain": [
       "<bound method DataFrame.corr of              asin                        name  rating                date  \\\n",
       "0      B0000SX2UC                       Janet       3    October 11, 2005   \n",
       "1      B0000SX2UC                  Luke Wyatt       1     January 7, 2004   \n",
       "2      B0000SX2UC                      Brooke       5   December 30, 2003   \n",
       "3      B0000SX2UC               amy m. teague       3      March 18, 2004   \n",
       "4      B0000SX2UC               tristazbimmer       4     August 28, 2005   \n",
       "5      B0000SX2UC                    J. White       4  September 25, 2005   \n",
       "6      B0000SX2UC  the cell phone store owner       5      April 16, 2004   \n",
       "7      B0000SX2UC                        Matt       4       April 3, 2004   \n",
       "8      B0000SX2UC                Charles Cook       5   November 24, 2003   \n",
       "9      B0000SX2UC             Amazon Customer       3    February 2, 2004   \n",
       "10     B0000SX2UC                     habblie       4   December 25, 2004   \n",
       "11     B0000SX2UC            Zachary O. Toups       1   November 29, 2004   \n",
       "12     B0000SX2UC                         EYS       2   September 8, 2004   \n",
       "13     B0000SX2UC                     brittho       4     August 17, 2004   \n",
       "14     B0009N5L7K               Marcel Thomas       1       March 5, 2016   \n",
       "15     B0009N5L7K                  William B.       4    February 9, 2006   \n",
       "16     B0009N5L7K               K. Mcilhargey       5    February 7, 2006   \n",
       "17     B0009N5L7K              Stephen Cahill       1   December 20, 2016   \n",
       "18     B0009N5L7K                       Mihir       5   December 13, 2009   \n",
       "19     B0009N5L7K                   L. Hughes       1       July 21, 2005   \n",
       "20     B0009N5L7K          1 Stop 4 Whats HOT       5       June 27, 2009   \n",
       "21     B000SKTZ0S                      Thomas       4  September 17, 2010   \n",
       "22     B000SKTZ0S           Kei, San Jose, CA       1        May 13, 2017   \n",
       "23     B000SKTZ0S               MARIO GAUTIER       5         May 1, 2017   \n",
       "24     B000SKTZ0S                      Kristy       1      March 13, 2019   \n",
       "25     B000SKTZ0S                      R-Dash       3   February 10, 2009   \n",
       "26     B000SKTZ0S              John R. Risden       4    January 19, 2011   \n",
       "27     B000SKTZ0S             Amazon Customer       1    February 3, 2017   \n",
       "28     B000SKTZ0S                    New York       5        May 23, 2013   \n",
       "29     B000SKTZ0S                 Trevor Arms       1   February 11, 2014   \n",
       "...           ...                         ...     ...                 ...   \n",
       "82785  B07WFJ6HRF              moritz montoya       1  September 25, 2019   \n",
       "82786  B07WFJ6HRF                Raissa Jorge       5  September 20, 2019   \n",
       "82787  B07WFJ6HRF              Marcia Naranjo       5     August 15, 2019   \n",
       "82788  B07WFJ6HRF             Amazon Customer       2     August 25, 2019   \n",
       "82789  B07WFJ6HRF               Devin Jackson       1   September 3, 2019   \n",
       "82790  B07WFJ6HRF                  Gus Cortez       5     August 21, 2019   \n",
       "82791  B07WFJ6HRF             Amazon Customer       5        July 2, 2019   \n",
       "82792  B07WFJ6HRF                     Johnson       5     August 28, 2019   \n",
       "82793  B07WFJ6HRF        carlos eduardo paula       5  September 24, 2019   \n",
       "82794  B07WFJ6HRF                    EL CHAPO       4       July 20, 2019   \n",
       "82795  B07WFJ6HRF                   Anonymous       5     January 9, 2019   \n",
       "82796  B07WFJ6HRF                        Aden       5    January 10, 2019   \n",
       "82797  B07WFJ6HRF      Abdulahi Ismail Digeti       5      August 2, 2019   \n",
       "82798  B07WFJ6HRF             Amazon Customer       5       July 20, 2019   \n",
       "82799  B07WFJ6HRF                        JJ S       5  September 23, 2019   \n",
       "82800  B07WFJ6HRF             eiden el khatib       5      August 6, 2019   \n",
       "82801  B07WKSVF6X                     Daisy S       5  September 13, 2019   \n",
       "82802  B07WKSVF6X                  stephen e.       5   September 4, 2019   \n",
       "82803  B07WKSVF6X                Paola useche       5     August 27, 2019   \n",
       "82804  B07WKSVF6X             Amazon Customer       4   September 3, 2019   \n",
       "82805  B07WKSVF6X                 lynn travis       5   September 8, 2019   \n",
       "82806  B07WKSVF6X                     R.Nyren       4   September 9, 2019   \n",
       "82807  B07WKSVF6X               Dalit Fischer       5  September 26, 2019   \n",
       "82808  B07WVRJQ7V                O**** S*****       2  September 24, 2019   \n",
       "82809  B07WXKWDT2                  N. Corallo       4  September 25, 2019   \n",
       "82810  B07WXKWDT2                 Prabhakaran       5  September 24, 2019   \n",
       "82811  B07WXKWDT2                    rvwonder       3  September 17, 2019   \n",
       "82812  B07WXKWDT2                    markw707       1   September 8, 2019   \n",
       "82813  B07WXKWDT2             Amazon Customer       1  September 13, 2019   \n",
       "82814  B07X51T2VK                    Steve H.       4  September 16, 2019   \n",
       "\n",
       "       verified                                              title  \\\n",
       "0         False                        Def not best, but not worst   \n",
       "1         False                        Text Messaging Doesn't Work   \n",
       "2         False                                    Love This Phone   \n",
       "3         False                            Love the Phone, BUT...!   \n",
       "4         False       Great phone service and options, lousy case!   \n",
       "5         False                                Worked great for me   \n",
       "6         False                Wanna cool Nokia? You have it here!   \n",
       "7         False               Problem with 3588i universal headset   \n",
       "8         False                                 cool phone!!!!!!!!   \n",
       "9         False                            Pissed off-a little bit   \n",
       "10        False                    works great, but don't dropt it   \n",
       "11        False       Slow, annoying, fragile, heavy, and bulky...   \n",
       "12        False              Worth paying more for something else.   \n",
       "13        False             Great free phone for Sprint customers.   \n",
       "14         True                                       Stupid phone   \n",
       "15        False                                   Exellent Service   \n",
       "16        False                                          I love it   \n",
       "17         True                                      Phones locked   \n",
       "18         True                                  Excellent product   \n",
       "19        False                                            WARNING   \n",
       "20        False                                 NEXTEL BOOST PHONE   \n",
       "21         True                                          Nice, but   \n",
       "22         True  It seems it doesn't work with the existing AT&...   \n",
       "23         True                                         Five Stars   \n",
       "24         True                                  Supply are needed   \n",
       "25         True                                       does the job   \n",
       "26         True                               Awesome with a But!!   \n",
       "27         True                                           One Star   \n",
       "28         True                            Is cheap but ok quality   \n",
       "29         True  This phone gave me a concussion. and may come ...   \n",
       "...         ...                                                ...   \n",
       "82785      True                            No me gusta el producto   \n",
       "82786      True                                     Good condition   \n",
       "82787      True                                      Price awesome   \n",
       "82788      True                           Phone quality isn’t good   \n",
       "82789      True  Product secretly defective but it occurs over ...   \n",
       "82790      True                         A great refurbished iPhone   \n",
       "82791      True                  Does not come with apple airpods.   \n",
       "82792      True                                         I love it!   \n",
       "82793      True                       Great buy for a great price.   \n",
       "82794     False                                              3.9/5   \n",
       "82795     False                                              GREAT   \n",
       "82796     False                                                  I   \n",
       "82797     False                                         I like it.   \n",
       "82798      True  Basically Perfect and Brand New (ignore the an...   \n",
       "82799      True                           New Phone for Half Price   \n",
       "82800      True                                               Nice   \n",
       "82801      True  This Samsung A50 SM-A505G is fantastic! Here i...   \n",
       "82802      True                              Cameras cant be beat!   \n",
       "82803      True  No me agrado mucho que lo ahogan dejado fuera ...   \n",
       "82804      True                                    Very fast phone   \n",
       "82805      True  Phone seems to be what I needed and the price ...   \n",
       "82806      True                   Samsung A50 - seems good so far.   \n",
       "82807      True                         Great seller fast shipping   \n",
       "82808      True                              Not actually unlocked   \n",
       "82809      True                               Rating should be 4.9   \n",
       "82810      True  International version. Will require USA adapte...   \n",
       "82811     False  Be careful of International Version if Using T...   \n",
       "82812     False          Moto G7 Play Freezes Every Time I Use It.   \n",
       "82813     False                                 Camera is not good   \n",
       "82814      True                                           Awesome.   \n",
       "\n",
       "                                                    body  helpfulVotes  \n",
       "0      I had the Samsung A600 for awhile which is abs...           1.0  \n",
       "1      Due to a software issue between Nokia and Spri...          17.0  \n",
       "2      This is a great, reliable phone. I also purcha...           5.0  \n",
       "3      I love the phone and all, because I really did...           1.0  \n",
       "4      The phone has been great for every purpose it ...           1.0  \n",
       "5      Hello, I have this phone and used it until I d...           NaN  \n",
       "6      Cool. Cheap. Color: 3 words that describe the ...           2.0  \n",
       "7      The 3599i is overall a nice phone, except that...           2.0  \n",
       "8      I've never owned a Nokia phone before, so this...           7.0  \n",
       "9      ok well im in school and i need the text messa...           3.0  \n",
       "10     I've had this phone for over a year and I real...           1.0  \n",
       "11     1.) Slow - If you want to check your missed ca...           4.0  \n",
       "12     I bought this phone about a year ago and have ...           5.0  \n",
       "13     This is an excellent choice for Sprint to use ...           1.0  \n",
       "14                              DON'T BUY OUT OF SERVICE           NaN  \n",
       "15     I have been with nextel for nearly a year now ...           NaN  \n",
       "16     I just got it and have to say its easy to use,...           NaN  \n",
       "17     1 star because the phones locked so I have to ...           NaN  \n",
       "18     The product has been very good. I had used thi...           NaN  \n",
       "19     My problems with nextel did not stop when I ca...           NaN  \n",
       "20     GREAT PRODUCT THAT IS AS GREAT FOR NEXTEL AS I...           NaN  \n",
       "21     I bought this phone to replace an LG phone tha...           NaN  \n",
       "22     I purchased this phone for my AT&T phone repla...           NaN  \n",
       "23                    SERVED ME WELL AS A BACK UP PHONE.           NaN  \n",
       "24     The phone did not come with a charger and didn...           NaN  \n",
       "25     I got this phone just as secondary cell phone....           NaN  \n",
       "26     Sturdy - clarity is great - easy to use Only p...           NaN  \n",
       "27                                  Phone stoped working           NaN  \n",
       "28     It does a beautiful job. I have used this item...           NaN  \n",
       "29     I asked my friend to toss me my phone, but wha...           NaN  \n",
       "...                                                  ...           ...  \n",
       "82785  Para nada, esta todo flojo y no trae audífonos...           NaN  \n",
       "82786            Really great condition, my friend loved           NaN  \n",
       "82787                             Just what it described           NaN  \n",
       "82788  I just purchased phone yesterday. The phone lo...           NaN  \n",
       "82789  Purple line appeared on my screen and it won’t...           NaN  \n",
       "82790  Fantastic price! Amazing quality on the phone!...           NaN  \n",
       "82791  Great product! i had the 7s plus before this &...           NaN  \n",
       "82792           Came new with no single scratch or dent.           NaN  \n",
       "82793                                  Like brand new!!!           NaN  \n",
       "82794  Arrived today, seems no problem but a really l...          11.0  \n",
       "82795   Wish i could give them 6!!!! POSITIVE Experience           8.0  \n",
       "82796                                         I loved it           7.0  \n",
       "82797                                       Best forever           2.0  \n",
       "82798  I was a little bit scared of my purchase given...           2.0  \n",
       "82799  I got a new phone for half the price!!! 100% b...           NaN  \n",
       "82800                                         Good phone           NaN  \n",
       "82801  After searching for several Samsung phones inc...          12.0  \n",
       "82802  Great phone and not super expensive like all t...           1.0  \n",
       "82803                       El equipo en si es muy bueno           2.0  \n",
       "82804                                    So far so good.           NaN  \n",
       "82805  Really like the storage for the many games tha...           NaN  \n",
       "82806   Great phone. Still learning it. So far, so good.           NaN  \n",
       "82807                      Great phone !! In all aspects           NaN  \n",
       "82808  It seems like it is locked on Verizon network....           NaN  \n",
       "82809  The phone is great, cost was even better, Have...           NaN  \n",
       "82810                          Best phone at this price.           NaN  \n",
       "82811  If you intend to use this phone on T Mobile be...           NaN  \n",
       "82812  Here is my Moto G7 Play complaint: It freezes ...           NaN  \n",
       "82813  As far as function works great camera no go wo...           NaN  \n",
       "82814  What a great phone! Sleek, fast, great soundin...           1.0  \n",
       "\n",
       "[82815 rows x 8 columns]>"
      ]
     },
     "execution_count": 7,
     "metadata": {},
     "output_type": "execute_result"
    }
   ],
   "source": [
    "df.corr"
   ]
  },
  {
   "cell_type": "code",
   "execution_count": 8,
   "metadata": {},
   "outputs": [
    {
     "data": {
      "text/plain": [
       "<matplotlib.axes._subplots.AxesSubplot at 0x20921e53710>"
      ]
     },
     "execution_count": 8,
     "metadata": {},
     "output_type": "execute_result"
    },
    {
     "data": {
      "image/png": "[encoded data removed]",
      "text/plain": [
       "<Figure size 432x288 with 2 Axes>"
      ]
     },
     "metadata": {
      "needs_background": "light"
     },
     "output_type": "display_data"
    }
   ],
   "source": [
    "sns.heatmap(df.corr(),annot=True)"
   ]
  },
  {
   "cell_type": "code",
   "execution_count": 9,
   "metadata": {},
   "outputs": [
    {
     "data": {
      "text/plain": [
       "<matplotlib.axes._subplots.AxesSubplot at 0x20921ef4198>"
      ]
     },
     "execution_count": 9,
     "metadata": {},
     "output_type": "execute_result"
    },
    {
     "data": {
      "image/png": "[encoded data removed]",
      "text/plain": [
       "<Figure size 432x288 with 1 Axes>"
      ]
     },
     "metadata": {
      "needs_background": "light"
     },
     "output_type": "display_data"
    }
   ],
   "source": [
    "df['rating'].plot.hist()"
   ]
  },
  {
   "cell_type": "code",
   "execution_count": 11,
   "metadata": {},
   "outputs": [
    {
     "data": {
      "text/plain": [
       "<matplotlib.axes._subplots.AxesSubplot at 0x20921f8df28>"
      ]
     },
     "execution_count": 11,
     "metadata": {},
     "output_type": "execute_result"
    },
    {
     "data": {
      "image/png": "[encoded data removed]",
      "text/plain": [
       "<Figure size 432x288 with 1 Axes>"
      ]
     },
     "metadata": {
      "needs_background": "light"
     },
     "output_type": "display_data"
    }
   ],
   "source": [
    "sns.distplot(df['rating'],kde=False)"
   ]
  },
  {
   "cell_type": "code",
   "execution_count": 12,
   "metadata": {},
   "outputs": [
    {
     "data": {
      "text/plain": [
       "<matplotlib.axes._subplots.AxesSubplot at 0x209220d8588>"
      ]
     },
     "execution_count": 12,
     "metadata": {},
     "output_type": "execute_result"
    },
    {
     "data": {
      "image/png": "[encoded data removed]",
      "text/plain": [
       "<Figure size 432x288 with 1 Axes>"
      ]
     },
     "metadata": {
      "needs_background": "light"
     },
     "output_type": "display_data"
    }
   ],
   "source": [
    "sns.distplot(df['rating'])"
   ]
  },
  {
   "cell_type": "code",
   "execution_count": 13,
   "metadata": {},
   "outputs": [
    {
     "data": {
      "text/plain": [
       "<matplotlib.axes._subplots.AxesSubplot at 0x2092217b438>"
      ]
     },
     "execution_count": 13,
     "metadata": {},
     "output_type": "execute_result"
    },
    {
     "data": {
      "image/png": "[encoded data removed]",
      "text/plain": [
       "<Figure size 432x288 with 1 Axes>"
      ]
     },
     "metadata": {
      "needs_background": "light"
     },
     "output_type": "display_data"
    }
   ],
   "source": [
    "sns.violinplot(data=df,x='rating',y='helpfulVotes',split=True)"
   ]
  },
  {
   "cell_type": "code",
   "execution_count": 14,
   "metadata": {},
   "outputs": [
    {
     "data": {
      "text/plain": [
       "<matplotlib.axes._subplots.AxesSubplot at 0x209221e5198>"
      ]
     },
     "execution_count": 14,
     "metadata": {},
     "output_type": "execute_result"
    },
    {
     "data": {
      "image/png": "[encoded data removed]",
      "text/plain": [
       "<Figure size 432x288 with 1 Axes>"
      ]
     },
     "metadata": {
      "needs_background": "light"
     },
     "output_type": "display_data"
    }
   ],
   "source": [
    "sns.boxplot(data=df,x='rating',y='helpfulVotes')"
   ]
  },
  {
   "cell_type": "code",
   "execution_count": 15,
   "metadata": {},
   "outputs": [
    {
     "name": "stdout",
     "output_type": "stream",
     "text": [
      "<class 'pandas.core.frame.DataFrame'>\n",
      "RangeIndex: 82815 entries, 0 to 82814\n",
      "Data columns (total 8 columns):\n",
      "asin            82815 non-null object\n",
      "name            82810 non-null object\n",
      "rating          82815 non-null int64\n",
      "date            82815 non-null object\n",
      "verified        82815 non-null bool\n",
      "title           82805 non-null object\n",
      "body            82795 non-null object\n",
      "helpfulVotes    33134 non-null float64\n",
      "dtypes: bool(1), float64(1), int64(1), object(5)\n",
      "memory usage: 4.5+ MB\n"
     ]
    }
   ],
   "source": [
    "df.info()"
   ]
  },
  {
   "cell_type": "code",
   "execution_count": 16,
   "metadata": {},
   "outputs": [
    {
     "data": {
      "text/plain": [
       "<matplotlib.axes._subplots.AxesSubplot at 0x209222da908>"
      ]
     },
     "execution_count": 16,
     "metadata": {},
     "output_type": "execute_result"
    },
    {
     "data": {
      "image/png": "[encoded data removed]",
      "text/plain": [
       "<Figure size 432x288 with 1 Axes>"
      ]
     },
     "metadata": {
      "needs_background": "light"
     },
     "output_type": "display_data"
    }
   ],
   "source": [
    "sns.stripplot(data=df,x='rating',y='helpfulVotes')"
   ]
  },
  {
   "cell_type": "code",
   "execution_count": null,
   "metadata": {},
   "outputs": [],
   "source": [
    "sns.swarmplot(data=df,x='rating',y='helpfulVotes')"
   ]
  },
  {
   "cell_type": "code",
   "execution_count": 22,
   "metadata": {},
   "outputs": [
    {
     "data": {
      "text/html": [
       "<div>\n",
       "<style scoped>\n",
       "    .dataframe tbody tr th:only-of-type {\n",
       "        vertical-align: middle;\n",
       "    }\n",
       "\n",
       "    .dataframe tbody tr th {\n",
       "        vertical-align: top;\n",
       "    }\n",
       "\n",
       "    .dataframe thead th {\n",
       "        text-align: right;\n",
       "    }\n",
       "</style>\n",
       "<table border=\"1\" class=\"dataframe\">\n",
       "  <thead>\n",
       "    <tr style=\"text-align: right;\">\n",
       "      <th></th>\n",
       "      <th>rating</th>\n",
       "      <th>helpfulVotes</th>\n",
       "    </tr>\n",
       "  </thead>\n",
       "  <tbody>\n",
       "    <tr>\n",
       "      <th>count</th>\n",
       "      <td>82815.000000</td>\n",
       "      <td>33134.000000</td>\n",
       "    </tr>\n",
       "    <tr>\n",
       "      <th>mean</th>\n",
       "      <td>3.760357</td>\n",
       "      <td>7.204835</td>\n",
       "    </tr>\n",
       "    <tr>\n",
       "      <th>std</th>\n",
       "      <td>1.605644</td>\n",
       "      <td>28.057901</td>\n",
       "    </tr>\n",
       "    <tr>\n",
       "      <th>min</th>\n",
       "      <td>1.000000</td>\n",
       "      <td>1.000000</td>\n",
       "    </tr>\n",
       "    <tr>\n",
       "      <th>25%</th>\n",
       "      <td>2.000000</td>\n",
       "      <td>1.000000</td>\n",
       "    </tr>\n",
       "    <tr>\n",
       "      <th>50%</th>\n",
       "      <td>5.000000</td>\n",
       "      <td>2.000000</td>\n",
       "    </tr>\n",
       "    <tr>\n",
       "      <th>75%</th>\n",
       "      <td>5.000000</td>\n",
       "      <td>4.000000</td>\n",
       "    </tr>\n",
       "    <tr>\n",
       "      <th>max</th>\n",
       "      <td>5.000000</td>\n",
       "      <td>932.000000</td>\n",
       "    </tr>\n",
       "  </tbody>\n",
       "</table>\n",
       "</div>"
      ],
      "text/plain": [
       "             rating  helpfulVotes\n",
       "count  82815.000000  33134.000000\n",
       "mean       3.760357      7.204835\n",
       "std        1.605644     28.057901\n",
       "min        1.000000      1.000000\n",
       "25%        2.000000      1.000000\n",
       "50%        5.000000      2.000000\n",
       "75%        5.000000      4.000000\n",
       "max        5.000000    932.000000"
      ]
     },
     "execution_count": 22,
     "metadata": {},
     "output_type": "execute_result"
    }
   ],
   "source": [
    "df.describe()"
   ]
  },
  {
   "cell_type": "code",
   "execution_count": 23,
   "metadata": {},
   "outputs": [],
   "source": [
    "x=df['rating']\n",
    "y=df['helpfulVotes']"
   ]
  },
  {
   "cell_type": "code",
   "execution_count": 24,
   "metadata": {},
   "outputs": [
    {
     "data": {
      "text/plain": [
       "(82815,)"
      ]
     },
     "execution_count": 24,
     "metadata": {},
     "output_type": "execute_result"
    }
   ],
   "source": [
    "x.shape"
   ]
  },
  {
   "cell_type": "code",
   "execution_count": 26,
   "metadata": {},
   "outputs": [
    {
     "data": {
      "text/plain": [
       "(82815,)"
      ]
     },
     "execution_count": 26,
     "metadata": {},
     "output_type": "execute_result"
    }
   ],
   "source": [
    "y.shape"
   ]
  },
  {
   "cell_type": "code",
   "execution_count": 27,
   "metadata": {},
   "outputs": [],
   "source": [
    "from sklearn.model_selection import train_test_split"
   ]
  },
  {
   "cell_type": "code",
   "execution_count": 28,
   "metadata": {},
   "outputs": [],
   "source": [
    "x_train,y_train,x_test,y_test=train_test_split(x,y,test_size=.33,random_state=101)"
   ]
  },
  {
   "cell_type": "code",
   "execution_count": null,
   "metadata": {},
   "outputs": [],
   "source": []
  }
 ],
 "metadata": {
  "kernelspec": {
   "display_name": "Python 3",
   "language": "python",
   "name": "python3"
  },
  "language_info": {
   "codemirror_mode": {
    "name": "ipython",
    "version": 3
   },
   "file_extension": ".py",
   "mimetype": "text/x-python",
   "name": "python",
   "nbconvert_exporter": "python",
   "pygments_lexer": "ipython3",
   "version": "3.7.3"
  }
 },
 "nbformat": 4,
 "nbformat_minor": 2
}
